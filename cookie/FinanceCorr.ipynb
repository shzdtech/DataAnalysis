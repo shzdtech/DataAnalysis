{
 "cells": [
  {
   "cell_type": "markdown",
   "metadata": {},
   "source": [
    "https://blog.pythonanywhere.com/127/"
   ]
  },
  {
   "cell_type": "code",
   "execution_count": 2,
   "metadata": {
    "collapsed": false
   },
   "outputs": [],
   "source": [
    "# PythonAnywhere comes pre-installed with Quandl, so you just need to import it\n",
    "import quandl\n",
    "\n",
    "# first, go to quandl.com and search for the ticker symbol that you want\n",
    "# let's say we want to look at (continuous) front month crude vs e-mini S&Ps\n",
    "\n",
    "\n",
    "cl = quandl.get('CHRIS/CME_CL1')\n",
    "es = quandl.get('CHRIS/CME_ES1')"
   ]
  },
  {
   "cell_type": "code",
   "execution_count": 3,
   "metadata": {
    "collapsed": false
   },
   "outputs": [
    {
     "data": {
      "text/html": [
       "<div>\n",
       "<table border=\"1\" class=\"dataframe\">\n",
       "  <thead>\n",
       "    <tr style=\"text-align: right;\">\n",
       "      <th></th>\n",
       "      <th>Open</th>\n",
       "      <th>High</th>\n",
       "      <th>Low</th>\n",
       "      <th>Last</th>\n",
       "      <th>Change</th>\n",
       "      <th>Settle</th>\n",
       "      <th>Volume</th>\n",
       "      <th>Open Interest</th>\n",
       "    </tr>\n",
       "    <tr>\n",
       "      <th>Date</th>\n",
       "      <th></th>\n",
       "      <th></th>\n",
       "      <th></th>\n",
       "      <th></th>\n",
       "      <th></th>\n",
       "      <th></th>\n",
       "      <th></th>\n",
       "      <th></th>\n",
       "    </tr>\n",
       "  </thead>\n",
       "  <tbody>\n",
       "    <tr>\n",
       "      <th>2016-10-05</th>\n",
       "      <td>2144.25</td>\n",
       "      <td>2158.00</td>\n",
       "      <td>2141.00</td>\n",
       "      <td>2153.75</td>\n",
       "      <td>8.50</td>\n",
       "      <td>2153.25</td>\n",
       "      <td>1364517.0</td>\n",
       "      <td>2912290.0</td>\n",
       "    </tr>\n",
       "    <tr>\n",
       "      <th>2016-10-06</th>\n",
       "      <td>2153.25</td>\n",
       "      <td>2157.25</td>\n",
       "      <td>2143.25</td>\n",
       "      <td>2155.75</td>\n",
       "      <td>3.25</td>\n",
       "      <td>2156.50</td>\n",
       "      <td>1204885.0</td>\n",
       "      <td>2921730.0</td>\n",
       "    </tr>\n",
       "    <tr>\n",
       "      <th>2016-10-07</th>\n",
       "      <td>2155.25</td>\n",
       "      <td>2161.50</td>\n",
       "      <td>2138.00</td>\n",
       "      <td>2146.50</td>\n",
       "      <td>10.00</td>\n",
       "      <td>2146.50</td>\n",
       "      <td>1952389.0</td>\n",
       "      <td>2920563.0</td>\n",
       "    </tr>\n",
       "    <tr>\n",
       "      <th>2016-10-10</th>\n",
       "      <td>2152.00</td>\n",
       "      <td>2163.50</td>\n",
       "      <td>2148.50</td>\n",
       "      <td>2159.50</td>\n",
       "      <td>12.50</td>\n",
       "      <td>2159.00</td>\n",
       "      <td>948489.0</td>\n",
       "      <td>2913295.0</td>\n",
       "    </tr>\n",
       "    <tr>\n",
       "      <th>2016-10-11</th>\n",
       "      <td>2159.50</td>\n",
       "      <td>2160.75</td>\n",
       "      <td>2121.75</td>\n",
       "      <td>2133.50</td>\n",
       "      <td>24.50</td>\n",
       "      <td>2134.50</td>\n",
       "      <td>2231047.0</td>\n",
       "      <td>2942901.0</td>\n",
       "    </tr>\n",
       "  </tbody>\n",
       "</table>\n",
       "</div>"
      ],
      "text/plain": [
       "               Open     High      Low     Last  Change   Settle     Volume  \\\n",
       "Date                                                                         \n",
       "2016-10-05  2144.25  2158.00  2141.00  2153.75    8.50  2153.25  1364517.0   \n",
       "2016-10-06  2153.25  2157.25  2143.25  2155.75    3.25  2156.50  1204885.0   \n",
       "2016-10-07  2155.25  2161.50  2138.00  2146.50   10.00  2146.50  1952389.0   \n",
       "2016-10-10  2152.00  2163.50  2148.50  2159.50   12.50  2159.00   948489.0   \n",
       "2016-10-11  2159.50  2160.75  2121.75  2133.50   24.50  2134.50  2231047.0   \n",
       "\n",
       "            Open Interest  \n",
       "Date                       \n",
       "2016-10-05      2912290.0  \n",
       "2016-10-06      2921730.0  \n",
       "2016-10-07      2920563.0  \n",
       "2016-10-10      2913295.0  \n",
       "2016-10-11      2942901.0  "
      ]
     },
     "execution_count": 3,
     "metadata": {},
     "output_type": "execute_result"
    }
   ],
   "source": [
    "# Quandl.get() returns a pandas dataframe, so you can use all the pandas goodies\n",
    "# For example, you can use tail to look at the most recent data, just like the unix tail binary!\n",
    "es.tail()"
   ]
  },
  {
   "cell_type": "code",
   "execution_count": 4,
   "metadata": {
    "collapsed": false
   },
   "outputs": [
    {
     "data": {
      "text/html": [
       "<div>\n",
       "<table border=\"1\" class=\"dataframe\">\n",
       "  <thead>\n",
       "    <tr style=\"text-align: right;\">\n",
       "      <th></th>\n",
       "      <th>Open</th>\n",
       "      <th>High</th>\n",
       "      <th>Low</th>\n",
       "      <th>Last</th>\n",
       "      <th>Change</th>\n",
       "      <th>Settle</th>\n",
       "      <th>Volume</th>\n",
       "      <th>Open Interest</th>\n",
       "    </tr>\n",
       "  </thead>\n",
       "  <tbody>\n",
       "    <tr>\n",
       "      <th>count</th>\n",
       "      <td>4889.000000</td>\n",
       "      <td>4889.000000</td>\n",
       "      <td>4889.000000</td>\n",
       "      <td>4889.000000</td>\n",
       "      <td>660.000000</td>\n",
       "      <td>4889.000000</td>\n",
       "      <td>4.889000e+03</td>\n",
       "      <td>4.889000e+03</td>\n",
       "    </tr>\n",
       "    <tr>\n",
       "      <th>mean</th>\n",
       "      <td>1340.362855</td>\n",
       "      <td>1350.459859</td>\n",
       "      <td>1329.759920</td>\n",
       "      <td>1340.782786</td>\n",
       "      <td>12.652652</td>\n",
       "      <td>1340.760303</td>\n",
       "      <td>1.091591e+06</td>\n",
       "      <td>1.491255e+06</td>\n",
       "    </tr>\n",
       "    <tr>\n",
       "      <th>std</th>\n",
       "      <td>336.275582</td>\n",
       "      <td>336.546521</td>\n",
       "      <td>336.088706</td>\n",
       "      <td>336.536850</td>\n",
       "      <td>12.087256</td>\n",
       "      <td>336.488013</td>\n",
       "      <td>9.504445e+05</td>\n",
       "      <td>1.166226e+06</td>\n",
       "    </tr>\n",
       "    <tr>\n",
       "      <th>min</th>\n",
       "      <td>674.750000</td>\n",
       "      <td>694.750000</td>\n",
       "      <td>665.750000</td>\n",
       "      <td>676.000000</td>\n",
       "      <td>0.250000</td>\n",
       "      <td>676.000000</td>\n",
       "      <td>0.000000e+00</td>\n",
       "      <td>0.000000e+00</td>\n",
       "    </tr>\n",
       "    <tr>\n",
       "      <th>25%</th>\n",
       "      <td>1113.500000</td>\n",
       "      <td>1122.000000</td>\n",
       "      <td>1105.250000</td>\n",
       "      <td>1113.500000</td>\n",
       "      <td>3.750000</td>\n",
       "      <td>1113.500000</td>\n",
       "      <td>2.017570e+05</td>\n",
       "      <td>2.257640e+05</td>\n",
       "    </tr>\n",
       "    <tr>\n",
       "      <th>50%</th>\n",
       "      <td>1279.500000</td>\n",
       "      <td>1287.750000</td>\n",
       "      <td>1268.750000</td>\n",
       "      <td>1279.500000</td>\n",
       "      <td>9.250000</td>\n",
       "      <td>1279.500000</td>\n",
       "      <td>8.927340e+05</td>\n",
       "      <td>1.466610e+06</td>\n",
       "    </tr>\n",
       "    <tr>\n",
       "      <th>75%</th>\n",
       "      <td>1460.250000</td>\n",
       "      <td>1471.500000</td>\n",
       "      <td>1451.250000</td>\n",
       "      <td>1460.500000</td>\n",
       "      <td>18.500000</td>\n",
       "      <td>1460.500000</td>\n",
       "      <td>1.730421e+06</td>\n",
       "      <td>2.710794e+06</td>\n",
       "    </tr>\n",
       "    <tr>\n",
       "      <th>max</th>\n",
       "      <td>2186.000000</td>\n",
       "      <td>2191.500000</td>\n",
       "      <td>2180.500000</td>\n",
       "      <td>2185.500000</td>\n",
       "      <td>100.250000</td>\n",
       "      <td>2186.000000</td>\n",
       "      <td>6.285917e+06</td>\n",
       "      <td>3.594453e+06</td>\n",
       "    </tr>\n",
       "  </tbody>\n",
       "</table>\n",
       "</div>"
      ],
      "text/plain": [
       "              Open         High          Low         Last      Change  \\\n",
       "count  4889.000000  4889.000000  4889.000000  4889.000000  660.000000   \n",
       "mean   1340.362855  1350.459859  1329.759920  1340.782786   12.652652   \n",
       "std     336.275582   336.546521   336.088706   336.536850   12.087256   \n",
       "min     674.750000   694.750000   665.750000   676.000000    0.250000   \n",
       "25%    1113.500000  1122.000000  1105.250000  1113.500000    3.750000   \n",
       "50%    1279.500000  1287.750000  1268.750000  1279.500000    9.250000   \n",
       "75%    1460.250000  1471.500000  1451.250000  1460.500000   18.500000   \n",
       "max    2186.000000  2191.500000  2180.500000  2185.500000  100.250000   \n",
       "\n",
       "            Settle        Volume  Open Interest  \n",
       "count  4889.000000  4.889000e+03   4.889000e+03  \n",
       "mean   1340.760303  1.091591e+06   1.491255e+06  \n",
       "std     336.488013  9.504445e+05   1.166226e+06  \n",
       "min     676.000000  0.000000e+00   0.000000e+00  \n",
       "25%    1113.500000  2.017570e+05   2.257640e+05  \n",
       "50%    1279.500000  8.927340e+05   1.466610e+06  \n",
       "75%    1460.500000  1.730421e+06   2.710794e+06  \n",
       "max    2186.000000  6.285917e+06   3.594453e+06  "
      ]
     },
     "execution_count": 4,
     "metadata": {},
     "output_type": "execute_result"
    }
   ],
   "source": [
    "# you can also get statistics\n",
    "es.describe()"
   ]
  },
  {
   "cell_type": "code",
   "execution_count": 6,
   "metadata": {
    "collapsed": false
   },
   "outputs": [
    {
     "data": {
      "text/html": [
       "<div>\n",
       "<table border=\"1\" class=\"dataframe\">\n",
       "  <thead>\n",
       "    <tr style=\"text-align: right;\">\n",
       "      <th></th>\n",
       "      <th>Open</th>\n",
       "      <th>High</th>\n",
       "      <th>Low</th>\n",
       "      <th>Last</th>\n",
       "      <th>Change</th>\n",
       "      <th>Settle</th>\n",
       "      <th>Volume</th>\n",
       "      <th>Open Interest</th>\n",
       "    </tr>\n",
       "    <tr>\n",
       "      <th>Date</th>\n",
       "      <th></th>\n",
       "      <th></th>\n",
       "      <th></th>\n",
       "      <th></th>\n",
       "      <th></th>\n",
       "      <th></th>\n",
       "      <th></th>\n",
       "      <th></th>\n",
       "    </tr>\n",
       "  </thead>\n",
       "  <tbody>\n",
       "  </tbody>\n",
       "</table>\n",
       "</div>"
      ],
      "text/plain": [
       "Empty DataFrame\n",
       "Columns: [Open, High, Low, Last, Change, Settle, Volume, Open Interest]\n",
       "Index: []"
      ]
     },
     "execution_count": 6,
     "metadata": {},
     "output_type": "execute_result"
    }
   ],
   "source": [
    "# select the rows where Open has missing data points\n",
    "es[es['Open'].isnull()].head()"
   ]
  },
  {
   "cell_type": "code",
   "execution_count": 7,
   "metadata": {
    "collapsed": false
   },
   "outputs": [
    {
     "data": {
      "text/plain": [
       "Date\n",
       "1997-09-09    934.0\n",
       "1997-09-10    915.0\n",
       "1997-09-11    908.0\n",
       "1997-09-12    924.0\n",
       "1997-09-15    922.0\n",
       "Name: Settle, dtype: float64"
      ]
     },
     "execution_count": 7,
     "metadata": {},
     "output_type": "execute_result"
    }
   ],
   "source": [
    "es_close = es.Settle  # WHAT IS THIS SORCERY? Attribute access!\n",
    "es_close.head()"
   ]
  },
  {
   "cell_type": "code",
   "execution_count": 8,
   "metadata": {
    "collapsed": false
   },
   "outputs": [
    {
     "name": "stdout",
     "output_type": "stream",
     "text": [
      "<class 'pandas.core.frame.DataFrame'>\n",
      "<class 'pandas.core.series.Series'>\n"
     ]
    }
   ],
   "source": [
    "print(type(es))\n",
    "print(type(es_close))"
   ]
  },
  {
   "cell_type": "code",
   "execution_count": 9,
   "metadata": {
    "collapsed": false
   },
   "outputs": [
    {
     "data": {
      "text/html": [
       "<div>\n",
       "<table border=\"1\" class=\"dataframe\">\n",
       "  <thead>\n",
       "    <tr style=\"text-align: right;\">\n",
       "      <th></th>\n",
       "      <th>Open</th>\n",
       "      <th>High</th>\n",
       "      <th>Low</th>\n",
       "      <th>Last</th>\n",
       "      <th>Change</th>\n",
       "      <th>Settle</th>\n",
       "      <th>Volume</th>\n",
       "      <th>Open Interest</th>\n",
       "    </tr>\n",
       "  </thead>\n",
       "  <tbody>\n",
       "    <tr>\n",
       "      <th>count</th>\n",
       "      <td>8426.000000</td>\n",
       "      <td>8426.000000</td>\n",
       "      <td>8426.000000</td>\n",
       "      <td>8426.000000</td>\n",
       "      <td>669.000000</td>\n",
       "      <td>8426.000000</td>\n",
       "      <td>8.426000e+03</td>\n",
       "      <td>8425.000000</td>\n",
       "    </tr>\n",
       "    <tr>\n",
       "      <th>mean</th>\n",
       "      <td>41.828424</td>\n",
       "      <td>42.391808</td>\n",
       "      <td>41.236514</td>\n",
       "      <td>41.832428</td>\n",
       "      <td>1.002093</td>\n",
       "      <td>41.832116</td>\n",
       "      <td>1.196205e+05</td>\n",
       "      <td>129911.474065</td>\n",
       "    </tr>\n",
       "    <tr>\n",
       "      <th>std</th>\n",
       "      <td>29.306367</td>\n",
       "      <td>29.683962</td>\n",
       "      <td>28.879005</td>\n",
       "      <td>29.300521</td>\n",
       "      <td>0.821309</td>\n",
       "      <td>29.300386</td>\n",
       "      <td>1.353083e+05</td>\n",
       "      <td>116081.105765</td>\n",
       "    </tr>\n",
       "    <tr>\n",
       "      <th>min</th>\n",
       "      <td>10.000000</td>\n",
       "      <td>11.020000</td>\n",
       "      <td>9.750000</td>\n",
       "      <td>10.420000</td>\n",
       "      <td>0.010000</td>\n",
       "      <td>10.420000</td>\n",
       "      <td>0.000000e+00</td>\n",
       "      <td>0.000000</td>\n",
       "    </tr>\n",
       "    <tr>\n",
       "      <th>25%</th>\n",
       "      <td>19.660000</td>\n",
       "      <td>19.862500</td>\n",
       "      <td>19.470000</td>\n",
       "      <td>19.660000</td>\n",
       "      <td>0.410000</td>\n",
       "      <td>19.660000</td>\n",
       "      <td>3.090475e+04</td>\n",
       "      <td>47288.000000</td>\n",
       "    </tr>\n",
       "    <tr>\n",
       "      <th>50%</th>\n",
       "      <td>28.650000</td>\n",
       "      <td>29.015000</td>\n",
       "      <td>28.350000</td>\n",
       "      <td>28.695000</td>\n",
       "      <td>0.810000</td>\n",
       "      <td>28.695000</td>\n",
       "      <td>6.014150e+04</td>\n",
       "      <td>88647.000000</td>\n",
       "    </tr>\n",
       "    <tr>\n",
       "      <th>75%</th>\n",
       "      <td>60.632500</td>\n",
       "      <td>61.497500</td>\n",
       "      <td>59.795000</td>\n",
       "      <td>60.652500</td>\n",
       "      <td>1.410000</td>\n",
       "      <td>60.652500</td>\n",
       "      <td>1.844715e+05</td>\n",
       "      <td>184716.000000</td>\n",
       "    </tr>\n",
       "    <tr>\n",
       "      <th>max</th>\n",
       "      <td>145.190000</td>\n",
       "      <td>147.270000</td>\n",
       "      <td>143.220000</td>\n",
       "      <td>145.290000</td>\n",
       "      <td>7.540000</td>\n",
       "      <td>145.290000</td>\n",
       "      <td>1.003948e+06</td>\n",
       "      <td>608831.000000</td>\n",
       "    </tr>\n",
       "  </tbody>\n",
       "</table>\n",
       "</div>"
      ],
      "text/plain": [
       "              Open         High          Low         Last      Change  \\\n",
       "count  8426.000000  8426.000000  8426.000000  8426.000000  669.000000   \n",
       "mean     41.828424    42.391808    41.236514    41.832428    1.002093   \n",
       "std      29.306367    29.683962    28.879005    29.300521    0.821309   \n",
       "min      10.000000    11.020000     9.750000    10.420000    0.010000   \n",
       "25%      19.660000    19.862500    19.470000    19.660000    0.410000   \n",
       "50%      28.650000    29.015000    28.350000    28.695000    0.810000   \n",
       "75%      60.632500    61.497500    59.795000    60.652500    1.410000   \n",
       "max     145.190000   147.270000   143.220000   145.290000    7.540000   \n",
       "\n",
       "            Settle        Volume  Open Interest  \n",
       "count  8426.000000  8.426000e+03    8425.000000  \n",
       "mean     41.832116  1.196205e+05  129911.474065  \n",
       "std      29.300386  1.353083e+05  116081.105765  \n",
       "min      10.420000  0.000000e+00       0.000000  \n",
       "25%      19.660000  3.090475e+04   47288.000000  \n",
       "50%      28.695000  6.014150e+04   88647.000000  \n",
       "75%      60.652500  1.844715e+05  184716.000000  \n",
       "max     145.290000  1.003948e+06  608831.000000  "
      ]
     },
     "execution_count": 9,
     "metadata": {},
     "output_type": "execute_result"
    }
   ],
   "source": [
    "# Okay- time to quickly check the crude time series as well\n",
    "cl.describe()"
   ]
  },
  {
   "cell_type": "code",
   "execution_count": 10,
   "metadata": {
    "collapsed": false
   },
   "outputs": [
    {
     "data": {
      "text/html": [
       "<div>\n",
       "<table border=\"1\" class=\"dataframe\">\n",
       "  <thead>\n",
       "    <tr style=\"text-align: right;\">\n",
       "      <th></th>\n",
       "      <th>Open</th>\n",
       "      <th>High</th>\n",
       "      <th>Low</th>\n",
       "      <th>Last</th>\n",
       "      <th>Change</th>\n",
       "      <th>Settle</th>\n",
       "      <th>Volume</th>\n",
       "      <th>Open Interest</th>\n",
       "    </tr>\n",
       "    <tr>\n",
       "      <th>Date</th>\n",
       "      <th></th>\n",
       "      <th></th>\n",
       "      <th></th>\n",
       "      <th></th>\n",
       "      <th></th>\n",
       "      <th></th>\n",
       "      <th></th>\n",
       "      <th></th>\n",
       "    </tr>\n",
       "  </thead>\n",
       "  <tbody>\n",
       "    <tr>\n",
       "      <th>1983-03-30</th>\n",
       "      <td>29.01</td>\n",
       "      <td>29.56</td>\n",
       "      <td>29.01</td>\n",
       "      <td>29.40</td>\n",
       "      <td>NaN</td>\n",
       "      <td>29.40</td>\n",
       "      <td>949.0</td>\n",
       "      <td>470.0</td>\n",
       "    </tr>\n",
       "    <tr>\n",
       "      <th>1983-03-31</th>\n",
       "      <td>29.40</td>\n",
       "      <td>29.60</td>\n",
       "      <td>29.25</td>\n",
       "      <td>29.29</td>\n",
       "      <td>NaN</td>\n",
       "      <td>29.29</td>\n",
       "      <td>521.0</td>\n",
       "      <td>523.0</td>\n",
       "    </tr>\n",
       "    <tr>\n",
       "      <th>1983-04-04</th>\n",
       "      <td>29.30</td>\n",
       "      <td>29.70</td>\n",
       "      <td>29.29</td>\n",
       "      <td>29.44</td>\n",
       "      <td>NaN</td>\n",
       "      <td>29.44</td>\n",
       "      <td>156.0</td>\n",
       "      <td>583.0</td>\n",
       "    </tr>\n",
       "    <tr>\n",
       "      <th>1983-04-05</th>\n",
       "      <td>29.50</td>\n",
       "      <td>29.80</td>\n",
       "      <td>29.50</td>\n",
       "      <td>29.71</td>\n",
       "      <td>NaN</td>\n",
       "      <td>29.71</td>\n",
       "      <td>175.0</td>\n",
       "      <td>623.0</td>\n",
       "    </tr>\n",
       "    <tr>\n",
       "      <th>1983-04-06</th>\n",
       "      <td>29.90</td>\n",
       "      <td>29.92</td>\n",
       "      <td>29.65</td>\n",
       "      <td>29.90</td>\n",
       "      <td>NaN</td>\n",
       "      <td>29.90</td>\n",
       "      <td>392.0</td>\n",
       "      <td>640.0</td>\n",
       "    </tr>\n",
       "  </tbody>\n",
       "</table>\n",
       "</div>"
      ],
      "text/plain": [
       "             Open   High    Low   Last  Change  Settle  Volume  Open Interest\n",
       "Date                                                                         \n",
       "1983-03-30  29.01  29.56  29.01  29.40     NaN   29.40   949.0          470.0\n",
       "1983-03-31  29.40  29.60  29.25  29.29     NaN   29.29   521.0          523.0\n",
       "1983-04-04  29.30  29.70  29.29  29.44     NaN   29.44   156.0          583.0\n",
       "1983-04-05  29.50  29.80  29.50  29.71     NaN   29.71   175.0          623.0\n",
       "1983-04-06  29.90  29.92  29.65  29.90     NaN   29.90   392.0          640.0"
      ]
     },
     "execution_count": 10,
     "metadata": {},
     "output_type": "execute_result"
    }
   ],
   "source": [
    "# Hmm. That's a lot more counts. Does the crude time series start earlier than e-mini's?\n",
    "cl.head()"
   ]
  },
  {
   "cell_type": "code",
   "execution_count": 11,
   "metadata": {
    "collapsed": false
   },
   "outputs": [
    {
     "data": {
      "text/html": [
       "<div>\n",
       "<table border=\"1\" class=\"dataframe\">\n",
       "  <thead>\n",
       "    <tr style=\"text-align: right;\">\n",
       "      <th></th>\n",
       "      <th>Open</th>\n",
       "      <th>High</th>\n",
       "      <th>Low</th>\n",
       "      <th>Last</th>\n",
       "      <th>Change</th>\n",
       "      <th>Settle</th>\n",
       "      <th>Volume</th>\n",
       "      <th>Open Interest</th>\n",
       "    </tr>\n",
       "    <tr>\n",
       "      <th>Date</th>\n",
       "      <th></th>\n",
       "      <th></th>\n",
       "      <th></th>\n",
       "      <th></th>\n",
       "      <th></th>\n",
       "      <th></th>\n",
       "      <th></th>\n",
       "      <th></th>\n",
       "    </tr>\n",
       "  </thead>\n",
       "  <tbody>\n",
       "    <tr>\n",
       "      <th>1997-09-09</th>\n",
       "      <td>19.43</td>\n",
       "      <td>19.61</td>\n",
       "      <td>19.37</td>\n",
       "      <td>19.42</td>\n",
       "      <td>NaN</td>\n",
       "      <td>19.42</td>\n",
       "      <td>32299.0</td>\n",
       "      <td>88070.0</td>\n",
       "    </tr>\n",
       "    <tr>\n",
       "      <th>1997-09-10</th>\n",
       "      <td>19.57</td>\n",
       "      <td>19.57</td>\n",
       "      <td>19.35</td>\n",
       "      <td>19.42</td>\n",
       "      <td>NaN</td>\n",
       "      <td>19.42</td>\n",
       "      <td>41858.0</td>\n",
       "      <td>86872.0</td>\n",
       "    </tr>\n",
       "    <tr>\n",
       "      <th>1997-09-11</th>\n",
       "      <td>19.49</td>\n",
       "      <td>19.72</td>\n",
       "      <td>19.30</td>\n",
       "      <td>19.37</td>\n",
       "      <td>NaN</td>\n",
       "      <td>19.37</td>\n",
       "      <td>52342.0</td>\n",
       "      <td>80434.0</td>\n",
       "    </tr>\n",
       "    <tr>\n",
       "      <th>1997-09-12</th>\n",
       "      <td>19.42</td>\n",
       "      <td>19.47</td>\n",
       "      <td>19.27</td>\n",
       "      <td>19.32</td>\n",
       "      <td>NaN</td>\n",
       "      <td>19.32</td>\n",
       "      <td>28540.0</td>\n",
       "      <td>80440.0</td>\n",
       "    </tr>\n",
       "    <tr>\n",
       "      <th>1997-09-15</th>\n",
       "      <td>19.29</td>\n",
       "      <td>19.38</td>\n",
       "      <td>19.23</td>\n",
       "      <td>19.27</td>\n",
       "      <td>NaN</td>\n",
       "      <td>19.27</td>\n",
       "      <td>31610.0</td>\n",
       "      <td>76590.0</td>\n",
       "    </tr>\n",
       "  </tbody>\n",
       "</table>\n",
       "</div>"
      ],
      "text/plain": [
       "             Open   High    Low   Last  Change  Settle   Volume  Open Interest\n",
       "Date                                                                          \n",
       "1997-09-09  19.43  19.61  19.37  19.42     NaN   19.42  32299.0        88070.0\n",
       "1997-09-10  19.57  19.57  19.35  19.42     NaN   19.42  41858.0        86872.0\n",
       "1997-09-11  19.49  19.72  19.30  19.37     NaN   19.37  52342.0        80434.0\n",
       "1997-09-12  19.42  19.47  19.27  19.32     NaN   19.32  28540.0        80440.0\n",
       "1997-09-15  19.29  19.38  19.23  19.27     NaN   19.27  31610.0        76590.0"
      ]
     },
     "execution_count": 11,
     "metadata": {},
     "output_type": "execute_result"
    }
   ],
   "source": [
    "earliest_es_date = es.index[0]\n",
    "\n",
    "# at first glance, you could just do\n",
    "cl[earliest_es_date:].head()"
   ]
  },
  {
   "cell_type": "code",
   "execution_count": 12,
   "metadata": {
    "collapsed": false
   },
   "outputs": [
    {
     "data": {
      "text/plain": [
       "Date\n",
       "1997-09-09    19.42\n",
       "1997-09-10    19.42\n",
       "1997-09-11    19.37\n",
       "1997-09-12    19.32\n",
       "1997-09-15    19.27\n",
       "Name: Settle, dtype: float64"
      ]
     },
     "execution_count": 12,
     "metadata": {},
     "output_type": "execute_result"
    }
   ],
   "source": [
    "# but just in case there is no matching precise date, we can also take the closest date:\n",
    "closest_row = cl.index.searchsorted(earliest_es_date)\n",
    "cl_close = cl.iloc[closest_row:].Settle\n",
    "cl_close.head()"
   ]
  },
  {
   "cell_type": "code",
   "execution_count": 13,
   "metadata": {
    "collapsed": false
   },
   "outputs": [
    {
     "name": "stdout",
     "output_type": "stream",
     "text": [
      "Populating the interactive namespace from numpy and matplotlib\n"
     ]
    },
    {
     "data": {
      "text/plain": [
       "<matplotlib.axes._subplots.AxesSubplot at 0x7fec7cdfb080>"
      ]
     },
     "execution_count": 13,
     "metadata": {},
     "output_type": "execute_result"
    },
    {
     "data": {
      "image/png": "[encoded data removed]",
      "text/plain": [
       "<matplotlib.figure.Figure at 0x7fec7ce2a8d0>"
      ]
     },
     "metadata": {},
     "output_type": "display_data"
    }
   ],
   "source": [
    "# ok lets just plot this guy\n",
    "import matplotlib\n",
    "import matplotlib.pyplot as plt\n",
    "# use new pretty plots\n",
    "matplotlib.style.use('ggplot')\n",
    "# get ipython notebook to show graphs\n",
    "%pylab inline\n",
    "\n",
    "es_close.plot()"
   ]
  },
  {
   "cell_type": "code",
   "execution_count": 15,
   "metadata": {
    "collapsed": false
   },
   "outputs": [
    {
     "data": {
      "image/png": "[encoded data removed]",
      "text/plain": [
       "<matplotlib.figure.Figure at 0x7fec7a97f278>"
      ]
     },
     "metadata": {},
     "output_type": "display_data"
    }
   ],
   "source": [
    "plt.figure()\n",
    "es_close.plot()\n",
    "cl_close.plot()\n",
    "plt.yscale('log')"
   ]
  },
  {
   "cell_type": "code",
   "execution_count": 16,
   "metadata": {
    "collapsed": false
   },
   "outputs": [
    {
     "data": {
      "text/plain": [
       "0.27989641961133654"
      ]
     },
     "execution_count": 16,
     "metadata": {},
     "output_type": "execute_result"
    }
   ],
   "source": [
    "es['Settle'].corr(cl['Settle'])"
   ]
  },
  {
   "cell_type": "code",
   "execution_count": 17,
   "metadata": {
    "collapsed": false
   },
   "outputs": [
    {
     "name": "stderr",
     "output_type": "stream",
     "text": [
      "/usr/lib/python3.4/site-packages/ipykernel/__main__.py:2: FutureWarning: pd.rolling_corr is deprecated for Series and will be removed in a future version, replace with \n",
      "\tSeries.rolling(window=252).corr(other=<Series>)\n",
      "  from ipykernel import kernelapp as app\n"
     ]
    },
    {
     "data": {
      "text/plain": [
       "Date\n",
       "2014-11-21   -0.369646\n",
       "2014-11-24   -0.386641\n",
       "2014-11-25   -0.404232\n",
       "2014-11-26   -0.421947\n",
       "2014-11-28   -0.441608\n",
       "2014-12-01   -0.457250\n",
       "2014-12-02   -0.473815\n",
       "2014-12-03   -0.488969\n",
       "2014-12-04   -0.502630\n",
       "2014-12-05   -0.516329\n",
       "2014-12-08   -0.526947\n",
       "2014-12-09   -0.536849\n",
       "2014-12-10   -0.541803\n",
       "2014-12-11   -0.548337\n",
       "2014-12-12   -0.549632\n",
       "2014-12-15   -0.549979\n",
       "2014-12-16   -0.546815\n",
       "2014-12-17   -0.551038\n",
       "2014-12-18   -0.560348\n",
       "2014-12-19   -0.569132\n",
       "2014-12-22   -0.577833\n",
       "2014-12-23   -0.586649\n",
       "2014-12-24   -0.594898\n",
       "2014-12-26   -0.603125\n",
       "2014-12-29   -0.610925\n",
       "2014-12-30   -0.617783\n",
       "2014-12-31   -0.622196\n",
       "2015-01-02   -0.626952\n",
       "2015-01-05   -0.628422\n",
       "2015-01-06   -0.627138\n",
       "                ...   \n",
       "2016-08-30    0.593655\n",
       "2016-08-31    0.600025\n",
       "2016-09-01    0.604109\n",
       "2016-09-02    0.609725\n",
       "2016-09-06    0.616551\n",
       "2016-09-07    0.621033\n",
       "2016-09-08    0.626729\n",
       "2016-09-09    0.632780\n",
       "2016-09-12    0.637275\n",
       "2016-09-13    0.640989\n",
       "2016-09-14    0.643517\n",
       "2016-09-15    0.646882\n",
       "2016-09-16    0.650302\n",
       "2016-09-19    0.654235\n",
       "2016-09-20    0.659570\n",
       "2016-09-21    0.666911\n",
       "2016-09-22    0.673417\n",
       "2016-09-23    0.680235\n",
       "2016-09-26    0.688970\n",
       "2016-09-27    0.699321\n",
       "2016-09-28    0.712074\n",
       "2016-09-29    0.721870\n",
       "2016-09-30    0.730857\n",
       "2016-10-03    0.738903\n",
       "2016-10-04    0.745293\n",
       "2016-10-05    0.755062\n",
       "2016-10-06    0.762527\n",
       "2016-10-07    0.769910\n",
       "2016-10-10    0.777727\n",
       "2016-10-11    0.782021\n",
       "Name: Settle, dtype: float64"
      ]
     },
     "execution_count": 17,
     "metadata": {},
     "output_type": "execute_result"
    }
   ],
   "source": [
    "import pandas as pd\n",
    "pd.rolling_corr(es_close, cl_close, window=252).dropna()\n",
    "# why 252? because that's the number of trading days in a year"
   ]
  },
  {
   "cell_type": "code",
   "execution_count": 18,
   "metadata": {
    "collapsed": false
   },
   "outputs": [
    {
     "name": "stdout",
     "output_type": "stream",
     "text": [
      "4797\n",
      "4889\n"
     ]
    }
   ],
   "source": [
    "print(len(cl_close))\n",
    "print(len(es_close))"
   ]
  },
  {
   "cell_type": "code",
   "execution_count": 19,
   "metadata": {
    "collapsed": false
   },
   "outputs": [
    {
     "data": {
      "text/html": [
       "<div>\n",
       "<table border=\"1\" class=\"dataframe\">\n",
       "  <thead>\n",
       "    <tr style=\"text-align: right;\">\n",
       "      <th></th>\n",
       "      <th>cl</th>\n",
       "      <th>es</th>\n",
       "    </tr>\n",
       "    <tr>\n",
       "      <th>Date</th>\n",
       "      <th></th>\n",
       "      <th></th>\n",
       "    </tr>\n",
       "  </thead>\n",
       "  <tbody>\n",
       "    <tr>\n",
       "      <th>1997-11-27</th>\n",
       "      <td>NaN</td>\n",
       "      <td>959.50</td>\n",
       "    </tr>\n",
       "    <tr>\n",
       "      <th>1997-11-28</th>\n",
       "      <td>NaN</td>\n",
       "      <td>955.00</td>\n",
       "    </tr>\n",
       "    <tr>\n",
       "      <th>1998-01-19</th>\n",
       "      <td>NaN</td>\n",
       "      <td>972.25</td>\n",
       "    </tr>\n",
       "    <tr>\n",
       "      <th>1998-02-16</th>\n",
       "      <td>NaN</td>\n",
       "      <td>1019.00</td>\n",
       "    </tr>\n",
       "    <tr>\n",
       "      <th>1998-05-25</th>\n",
       "      <td>NaN</td>\n",
       "      <td>1116.50</td>\n",
       "    </tr>\n",
       "  </tbody>\n",
       "</table>\n",
       "</div>"
      ],
      "text/plain": [
       "            cl       es\n",
       "Date                   \n",
       "1997-11-27 NaN   959.50\n",
       "1997-11-28 NaN   955.00\n",
       "1998-01-19 NaN   972.25\n",
       "1998-02-16 NaN  1019.00\n",
       "1998-05-25 NaN  1116.50"
      ]
     },
     "execution_count": 19,
     "metadata": {},
     "output_type": "execute_result"
    }
   ],
   "source": [
    "merged = pd.concat({'es': es_close, 'cl': cl_close}, axis=1)\n",
    "# maybe this is the culprit?\n",
    "merged[merged['cl'].isnull()].head()"
   ]
  },
  {
   "cell_type": "code",
   "execution_count": 20,
   "metadata": {
    "collapsed": false
   },
   "outputs": [
    {
     "data": {
      "text/html": [
       "<div>\n",
       "<table border=\"1\" class=\"dataframe\">\n",
       "  <thead>\n",
       "    <tr style=\"text-align: right;\">\n",
       "      <th></th>\n",
       "      <th>cl</th>\n",
       "      <th>es</th>\n",
       "    </tr>\n",
       "    <tr>\n",
       "      <th>Date</th>\n",
       "      <th></th>\n",
       "      <th></th>\n",
       "    </tr>\n",
       "  </thead>\n",
       "  <tbody>\n",
       "  </tbody>\n",
       "</table>\n",
       "</div>"
      ],
      "text/plain": [
       "Empty DataFrame\n",
       "Columns: [cl, es]\n",
       "Index: []"
      ]
     },
     "execution_count": 20,
     "metadata": {},
     "output_type": "execute_result"
    }
   ],
   "source": [
    "merged.dropna(how='any', inplace=True)\n",
    "# BAD DATA BEGONE!\n",
    "merged[merged['cl'].isnull()]"
   ]
  },
  {
   "cell_type": "code",
   "execution_count": 21,
   "metadata": {
    "collapsed": false
   },
   "outputs": [
    {
     "name": "stderr",
     "output_type": "stream",
     "text": [
      "/usr/lib/python3.4/site-packages/ipykernel/__main__.py:1: FutureWarning: pd.rolling_corr is deprecated for Series and will be removed in a future version, replace with \n",
      "\tSeries.rolling(window=252).corr(other=<Series>)\n",
      "  if __name__ == '__main__':\n"
     ]
    },
    {
     "data": {
      "text/plain": [
       "<matplotlib.lines.Line2D at 0x7fec7a770da0>"
      ]
     },
     "execution_count": 21,
     "metadata": {},
     "output_type": "execute_result"
    },
    {
     "data": {
      "image/png": "[encoded data removed]",
      "text/plain": [
       "<matplotlib.figure.Figure at 0x7fec7a96ae80>"
      ]
     },
     "metadata": {},
     "output_type": "display_data"
    }
   ],
   "source": [
    "pd.rolling_corr(merged.es, merged.cl, window=252).dropna().plot()\n",
    "plt.axhline(0, color='k')"
   ]
  },
  {
   "cell_type": "code",
   "execution_count": 22,
   "metadata": {
    "collapsed": false
   },
   "outputs": [
    {
     "name": "stdout",
     "output_type": "stream",
     "text": [
      "Autocorrelation for a random series is -0.001\n",
      "But, autocorrelation for S&P is 0.998969\n"
     ]
    }
   ],
   "source": [
    "# D'oh\n",
    "import numpy as np\n",
    "print('Autocorrelation for a random series is {:.3f}'.format(\n",
    "    pd.Series(np.random.randn(100000)).autocorr())\n",
    ")\n",
    "print('But, autocorrelation for S&P is {:3f}'.format(es_close.autocorr()))"
   ]
  },
  {
   "cell_type": "code",
   "execution_count": 23,
   "metadata": {
    "collapsed": false
   },
   "outputs": [
    {
     "name": "stderr",
     "output_type": "stream",
     "text": [
      "/usr/lib/python3.4/site-packages/ipykernel/__main__.py:2: FutureWarning: pd.rolling_corr is deprecated for Series and will be removed in a future version, replace with \n",
      "\tSeries.rolling(window=252).corr(other=<Series>)\n",
      "  from ipykernel import kernelapp as app\n"
     ]
    },
    {
     "data": {
      "text/plain": [
       "<matplotlib.text.Text at 0x7fec7a769278>"
      ]
     },
     "execution_count": 23,
     "metadata": {},
     "output_type": "execute_result"
    },
    {
     "data": {
      "image/png": "[encoded data removed]",
      "text/plain": [
       "<matplotlib.figure.Figure at 0x7fec7a8e9ac8>"
      ]
     },
     "metadata": {},
     "output_type": "display_data"
    }
   ],
   "source": [
    "daily_returns = merged.pct_change()\n",
    "rolling_correlation = pd.rolling_corr(daily_returns.es, daily_returns.cl, window=252).dropna()\n",
    "rolling_correlation.plot()\n",
    "plt.axhline(0, color='k')\n",
    "title('Rolling 1 yr correlation between Oil and S&P')"
   ]
  },
  {
   "cell_type": "code",
   "execution_count": 24,
   "metadata": {
    "collapsed": false
   },
   "outputs": [
    {
     "data": {
      "image/png": "[encoded data removed]",
      "text/plain": [
       "<matplotlib.figure.Figure at 0x7fec7a91e7f0>"
      ]
     },
     "metadata": {},
     "output_type": "display_data"
    }
   ],
   "source": [
    "# vertically split into two subplots, and align x-axis\n",
    "fig, (ax1, ax2) = plt.subplots(2, 1, sharex=True)\n",
    "fig.suptitle('Checking our intuition about correlation', fontsize=14, fontweight='bold')\n",
    "# make space for the title\n",
    "fig.subplots_adjust(top=0.85)\n",
    "\n",
    "rolling_correlation.plot(ax=ax1)\n",
    "ax1.set_title('Rolling correlation of WTI returns vs S&P returns')\n",
    "ax1.axhline(0, color='k')\n",
    "ax1.tick_params(\n",
    "    which='both',  # both major and minor ticks\n",
    "    bottom='off', top='off', right='off',\n",
    "    labelbottom='off'  # labels along the bottom edge are off\n",
    ")\n",
    "\n",
    "\n",
    "cl_close.plot(ax=ax2)\n",
    "ax2.set_title('Price of front month WTI crude')\n",
    "ax2.tick_params(which='both', top='off', right='off')\n",
    "ax2.tick_params(which='minor', bottom='off')\n",
    "ax2.yaxis.set_major_locator(MaxNLocator(5)) # how many ticks"
   ]
  },
  {
   "cell_type": "code",
   "execution_count": null,
   "metadata": {
    "collapsed": true
   },
   "outputs": [],
   "source": []
  }
 ],
 "metadata": {
  "kernelspec": {
   "display_name": "Python 3",
   "language": "python",
   "name": "python3"
  },
  "language_info": {
   "codemirror_mode": {
    "name": "ipython",
    "version": 3
   },
   "file_extension": ".py",
   "mimetype": "text/x-python",
   "name": "python",
   "nbconvert_exporter": "python",
   "pygments_lexer": "ipython3",
   "version": "3.4.3"
  }
 },
 "nbformat": 4,
 "nbformat_minor": 1
}
